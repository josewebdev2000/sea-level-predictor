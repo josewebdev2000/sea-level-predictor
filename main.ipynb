{
 "cells": [
  {
   "cell_type": "markdown",
   "id": "2adac9e0-8832-4457-a284-eff72a9c4e82",
   "metadata": {},
   "source": [
    "<div align=\"center\">\n",
    "    <h1>Sea Level Predictor</h1>\n",
    "    <img src=\"sea_level.jpg\" alt=\"Sea Level Predictor Picture\" width=\"500\">\n",
    "</div>"
   ]
  },
  {
   "cell_type": "code",
   "execution_count": 2,
   "id": "8cfecd33-cd7f-47dd-a15e-25c47eeda61e",
   "metadata": {},
   "outputs": [],
   "source": [
    "# Import dependencies\n",
    "import pandas as pd\n",
    "import matplotlib.pyplot as plt\n",
    "from scipy.stats import linregress"
   ]
  },
  {
   "cell_type": "code",
   "execution_count": 4,
   "id": "783c473a-76ed-4dfb-9711-bf1783284e2d",
   "metadata": {},
   "outputs": [],
   "source": [
    "# Import data set\n",
    "sea_df = pd.read_csv(\"epa-sea-level.csv\")"
   ]
  }
 ],
 "metadata": {
  "kernelspec": {
   "display_name": "Python 3 (ipykernel)",
   "language": "python",
   "name": "python3"
  },
  "language_info": {
   "codemirror_mode": {
    "name": "ipython",
    "version": 3
   },
   "file_extension": ".py",
   "mimetype": "text/x-python",
   "name": "python",
   "nbconvert_exporter": "python",
   "pygments_lexer": "ipython3",
   "version": "3.11.6"
  }
 },
 "nbformat": 4,
 "nbformat_minor": 5
}
